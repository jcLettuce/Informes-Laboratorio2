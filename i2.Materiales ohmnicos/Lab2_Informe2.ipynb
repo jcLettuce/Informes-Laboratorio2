{
  "nbformat": 4,
  "nbformat_minor": 0,
  "metadata": {
    "colab": {
      "provenance": []
    },
    "kernelspec": {
      "name": "python3",
      "display_name": "Python 3"
    },
    "language_info": {
      "name": "python"
    }
  },
  "cells": [
    {
      "cell_type": "code",
      "execution_count": 4,
      "metadata": {
        "colab": {
          "base_uri": "https://localhost:8080/",
          "height": 469
        },
        "id": "E4G0tMPzF41S",
        "outputId": "6c775de0-30a9-4852-bb4e-a24022c7453e"
      },
      "outputs": [
        {
          "output_type": "stream",
          "name": "stdout",
          "text": [
            "[[0.361]\n",
            " [0.347]\n",
            " [0.335]\n",
            " [0.321]\n",
            " [0.308]\n",
            " [0.294]\n",
            " [0.281]\n",
            " [0.265]\n",
            " [0.249]\n",
            " [0.233]]\n"
          ]
        },
        {
          "output_type": "display_data",
          "data": {
            "text/plain": [
              "<Figure size 432x288 with 1 Axes>"
            ],
            "image/png": "[encoded data removed]"
          },
          "metadata": {
            "needs_background": "light"
          }
        }
      ],
      "source": [
        "import pandas as pd\n",
        "import matplotlib.pyplot as plt\n",
        "import numpy as np\n",
        "from sklearn.linear_model import LinearRegression\n",
        "\n",
        "# Leer el archivo de Excel y almacenarlo en un dataframe de pandas\n",
        "df = pd.read_excel('I3.Materiales ohmnicos.xlsx', index_col=0,sheet_name=\"Fase tres\")\n",
        "\n",
        "# Seleccionar dos columnas para usar en la regresión lineal\n",
        "x = df.loc['V'].values.reshape(-1, 1)\n",
        "y = df.loc['I'].values.reshape(-1, 1)\n",
        "print(y)\n",
        "\n",
        "#Crear un objeto de regresión lineal\n",
        "reg = LinearRegression().fit(x, y)\n",
        "\n",
        "# Hacer predicciones utilizando el modelo\n",
        "y_pred = reg.predict(x)\n",
        "\n",
        "# Graficar los datos y la regresión lineal\n",
        "plt.scatter(x, y)\n",
        "plt.plot(x, y_pred, color='red')\n",
        "plt.xlabel('Voltaje')\n",
        "plt.ylabel('Corriente')\n",
        "plt.title('Relacion entre V vs I en material no-ohmico')\n",
        "plt.show()"
      ]
    },
    {
      "cell_type": "code",
      "source": [
        "# Obtener el valor de la pendiente\n",
        "pendiente = reg.coef_[0][0]\n",
        "\n",
        "# Mostrar el valor de la pendiente\n",
        "print(\"Pendiente: \", pendiente)"
      ],
      "metadata": {
        "colab": {
          "base_uri": "https://localhost:8080/"
        },
        "id": "bsMwLFidHh3A",
        "outputId": "bccd8f84-291a-44c2-a37a-72595ca28ebc"
      },
      "execution_count": 51,
      "outputs": [
        {
          "output_type": "stream",
          "name": "stdout",
          "text": [
            "Pendiente:  351.16321693018256\n"
          ]
        }
      ]
    },
    {
      "cell_type": "code",
      "source": [
        "def error_porcentual(valor_medido, valor_verdadero):\n",
        "    return abs(valor_medido - valor_verdadero) / valor_verdadero * 100\n",
        "\n",
        "valor_medido = pendiente\n",
        "valor_verdadero = 53.1\n",
        "\n",
        "error = error_porcentual(valor_medido, valor_verdadero)\n",
        "print(\"El error porcentual es de {:.2f}%\".format(error))"
      ],
      "metadata": {
        "colab": {
          "base_uri": "https://localhost:8080/"
        },
        "id": "Pk71EWRxOP3m",
        "outputId": "a3a107c3-7d6f-4d31-e972-e8a88b6f6311"
      },
      "execution_count": 39,
      "outputs": [
        {
          "output_type": "stream",
          "name": "stdout",
          "text": [
            "El error porcentual es de 2.70%\n"
          ]
        }
      ]
    },
    {
      "cell_type": "code",
      "source": [],
      "metadata": {
        "id": "zDpYiyCmUmki"
      },
      "execution_count": null,
      "outputs": []
    }
  ]
}